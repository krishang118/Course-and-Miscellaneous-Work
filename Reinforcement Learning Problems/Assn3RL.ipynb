{
  "nbformat": 4,
  "nbformat_minor": 0,
  "metadata": {
    "colab": {
      "provenance": []
    },
    "kernelspec": {
      "name": "python3",
      "display_name": "Python 3"
    },
    "language_info": {
      "name": "python"
    }
  },
  "cells": [
    {
      "cell_type": "code",
      "execution_count": 11,
      "metadata": {
        "colab": {
          "base_uri": "https://localhost:8080/"
        },
        "id": "lmFjc2wcACg1",
        "outputId": "2e4273ba-39eb-4db4-ec81-faabe97939ff"
      },
      "outputs": [
        {
          "output_type": "stream",
          "name": "stdout",
          "text": [
            "Simulating the policies for one year...\n",
            "Policy || Total Cost || Carrying Cost || Order Cost || Cost for Lost Sales ||\n",
            "P=125 and Q=150 | 326445 | 5625 | 9150 | 311670\n",
            "P=125 and Q=250 | 347406 | 5400 | 9150 | 332856\n",
            "P=150 and Q=250 | 342822 | 14550 | 9150 | 319122\n",
            "P=175 and Q=250 | 333720 | 1200 | 9150 | 323370\n",
            "P=175 and Q=300 | 325656 | 3000 | 9150 | 313506\n"
          ]
        }
      ],
      "source": [
        "import random\n",
        "ordercost = 75\n",
        "carryingcost = 75\n",
        "lossperunit = 18\n",
        "initialstock = 115\n",
        "rangefordemand = (0, 99)\n",
        "oneyear = 365\n",
        "policiesfortesting = [(125, 150),(125, 250),(150, 250),(175, 250),(175, 300)]\n",
        "def inventoryprog(P, Q):\n",
        "    stock = initialstock\n",
        "    totalordercost = 0\n",
        "    totalcarryingcost = 0\n",
        "    totalcostlostsales = 0\n",
        "    orders = []\n",
        "    for day in range(oneyear):\n",
        "        orders = [(arr_day, qty) for arr_day, qty in orders if arr_day != day]\n",
        "        if orders and orders[0][0] == day:\n",
        "            stock += orders.pop(0)[1]\n",
        "        demand = random.randint(*rangefordemand)\n",
        "        if demand > stock:\n",
        "            lostsales = demand - stock\n",
        "            totalcostlostsales += lostsales * lossperunit\n",
        "            stock = 0\n",
        "        else:\n",
        "            stock -= demand\n",
        "        totalcarryingcost += stock * carryingcost\n",
        "        if stock <= P and not orders:\n",
        "            orders.append((day + 3, Q))\n",
        "            totalordercost += ordercost\n",
        "    totalcost = totalcarryingcost + totalordercost + totalcostlostsales\n",
        "    return totalcost, totalcarryingcost, totalcostlostsales, totalordercost\n",
        "result = {}\n",
        "for P, Q in policiesfortesting:\n",
        "    cost, carrying, lostsales, order = inventoryprog(P, Q)\n",
        "    result[(P, Q)] = (cost, carrying, lostsales, order)\n",
        "print(\"Simulating the policies for one year...\")\n",
        "print(\"Policy || Total Cost || Carrying Cost || Order Cost || Cost for Lost Sales ||\")\n",
        "for (P, Q), (cost, carrying, lostsales, order) in result.items():\n",
        "    print(f\"P={P} and Q={Q} | {cost} | {carrying} | {order} | {lostsales}\")"
      ]
    }
  ]
}