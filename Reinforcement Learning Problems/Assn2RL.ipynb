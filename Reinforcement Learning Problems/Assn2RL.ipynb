{
  "nbformat": 4,
  "nbformat_minor": 0,
  "metadata": {
    "colab": {
      "provenance": []
    },
    "kernelspec": {
      "name": "python3",
      "display_name": "Python 3"
    },
    "language_info": {
      "name": "python"
    }
  },
  "cells": [
    {
      "cell_type": "code",
      "execution_count": 7,
      "metadata": {
        "colab": {
          "base_uri": "https://localhost:8080/"
        },
        "id": "lmFjc2wcACg1",
        "outputId": "7a3516d0-245a-438c-f9f2-4b8b56120da5"
      },
      "outputs": [
        {
          "output_type": "stream",
          "name": "stdout",
          "text": [
            "Average time taken for the fighter to hit the bomber (for 5000 trials): 4.42 seconds\n"
          ]
        }
      ],
      "source": [
        "import random\n",
        "import numpy as np\n",
        "import math\n",
        "def pursuitprog(trials=5000):\n",
        "    listoftimes = []\n",
        "    for _ in range(trials):\n",
        "        fighterx, fightery = 0, 50\n",
        "        bomberx, bombery = 70, 0\n",
        "        time = 0\n",
        "        while math.sqrt((fighterx - bomberx) ** 2 + (fightery - bombery) ** 2) > 20:\n",
        "            fighterspeed = random.randint(10, 100)\n",
        "            bomberspeed = random.randint(10, 50)\n",
        "            dx = bomberx - fighterx\n",
        "            dy = bombery - fightery\n",
        "            distance = math.sqrt(dx**2 + dy**2)\n",
        "            if distance > 0:\n",
        "                fighterx += (fighterspeed * dx / distance)\n",
        "                fightery += (fighterspeed * dy / distance)\n",
        "            bomberx += bomberspeed\n",
        "            time += 1\n",
        "        listoftimes.append(time)\n",
        "    return np.mean(listoftimes)\n",
        "avgtimetaken = pursuitprog()\n",
        "print(f\"Average time taken for the fighter to hit the bomber (for 5000 trials): {avgtimetaken:.2f} seconds\")"
      ]
    }
  ]
}