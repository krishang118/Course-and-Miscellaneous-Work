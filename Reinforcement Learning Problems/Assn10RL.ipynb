{
  "nbformat": 4,
  "nbformat_minor": 0,
  "metadata": {
    "colab": {
      "provenance": []
    },
    "kernelspec": {
      "name": "python3",
      "display_name": "Python 3"
    },
    "language_info": {
      "name": "python"
    }
  },
  "cells": [
    {
      "cell_type": "code",
      "execution_count": 38,
      "metadata": {
        "colab": {
          "base_uri": "https://localhost:8080/"
        },
        "id": "d1GGhygNi1ob",
        "outputId": "abfc7d48-7f85-46a2-d42a-c7e1769ade5b"
      },
      "outputs": [
        {
          "output_type": "stream",
          "name": "stdout",
          "text": [
            "TD(0) Evaluation of Policies for One Cycle (Initial State to Zero Stock):\n",
            "Policy || Estimated Costs Incurred for One Cycle\n",
            "P=125 and Q=150 | 13862.65\n",
            "P=125 and Q=250 | 21615.25\n",
            "P=150 and Q=250 | 29022.54\n",
            "P=175 and Q=250 | 41127.75\n",
            "P=175 and Q=300 | 55218.52\n"
          ]
        }
      ],
      "source": [
        "import random\n",
        "import numpy as np\n",
        "order_cost_fixed = 75\n",
        "carrying_cost_per_unit = 75\n",
        "lost_cost_per_unit = 18\n",
        "initial_stock = 115\n",
        "demand_range = (0, 99)\n",
        "lead_time = 3\n",
        "oneyear = 365\n",
        "policies = [(125, 150), (125, 250), (150, 250), (175, 250), (175, 300)]\n",
        "gamma = 1.0 # no discounting here, gamma value assumed to be 1.\n",
        "def step(state, P, Q):\n",
        "    stock, order_timer = state\n",
        "    if order_timer == 1:\n",
        "        stock += Q\n",
        "        order_timer = 0\n",
        "    elif order_timer > 1:\n",
        "        order_timer -= 1\n",
        "    demand = random.randint(*demand_range)\n",
        "    if demand > stock:\n",
        "        lost_units = demand - stock\n",
        "        stock = 0\n",
        "    else:\n",
        "        lost_units = 0\n",
        "        stock -= demand\n",
        "    cost_carrying = stock * carrying_cost_per_unit\n",
        "    cost_lost = lost_units * lost_cost_per_unit\n",
        "    cost_order = 0\n",
        "    if stock > 0 and order_timer == 0 and stock <= P:\n",
        "        order_timer = lead_time\n",
        "        cost_order = order_cost_fixed\n",
        "    total_cost = cost_carrying + cost_lost + cost_order\n",
        "    next_state = (stock, order_timer)\n",
        "    terminal = (stock == 0)\n",
        "    return next_state, total_cost, terminal\n",
        "def td_policy_evaluation(P, Q, num_episodes=10000, alpha=0.1): # alpha value assumed to be 0.1.\n",
        "    V = {}\n",
        "    def getV(state):\n",
        "        return V.get(state, 0.0)\n",
        "    for episode in range(num_episodes):\n",
        "        state = (initial_stock, 0)\n",
        "        while True:\n",
        "            next_state, total_cost, terminal = step(state, P, Q)\n",
        "            V[state] = getV(state) + alpha * (total_cost + gamma * getV(next_state) - getV(state))\n",
        "            if terminal:\n",
        "                break\n",
        "            state = next_state\n",
        "    return V\n",
        "results = {}\n",
        "for (P, Q) in policies:\n",
        "    V = td_policy_evaluation(P, Q)\n",
        "    initial_value = V.get((initial_stock, 0), 0.0)\n",
        "    results[(P, Q)] = initial_value\n",
        "print(\"TD(0) Evaluation of Policies for One Cycle (Initial State to Zero Stock):\")\n",
        "print(\"Policy || Estimated Costs Incurred for One Cycle\")\n",
        "for (P, Q), value in results.items():\n",
        "    print(f\"P={P} and Q={Q} | {value:.2f}\")"
      ]
    }
  ]
}